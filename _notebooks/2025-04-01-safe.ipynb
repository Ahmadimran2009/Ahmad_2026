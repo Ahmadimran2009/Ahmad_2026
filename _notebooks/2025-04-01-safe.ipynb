{
 "cells": [
  {
   "cell_type": "code",
   "execution_count": null,
   "metadata": {
    "vscode": {
     "languageId": "yaml"
    }
   },
   "outputs": [],
   "source": [
    "---\n",
    "layout: post\n",
    "categories: [CSP Big Idea 5]\n",
    "title: Safe Computing\n",
    "description: hacks for Safe Computing\n",
    "courses: { csp: {week: 25} }\n",
    "author: Ahmad Imran\n",
    "type: ccc\n",
    "---"
   ]
  },
  {
   "cell_type": "markdown",
   "metadata": {},
   "source": [
    "# Popcorn hack 1\n",
    "\n",
    "Which of the following is considered PII?\n",
    "\n",
    "A. Fingerprint\n",
    "B. Favorite Color\n",
    "C. Zip Code\n",
    "D. Job Title\n",
    "\n",
    "Answer: A. because fingerprints are considered Personally Identifiable Information (PII) because it is unique to an individual and can be used for identification.\n",
    "\n",
    "# Popcorn hack 2\n",
    "\n",
    "Which of the following is an example of symmetric encryption?\n",
    "A. Evy buys a locked box that operates using two different codes. When the first code is entered, a slot opens that allows a message to be put in the box. When the second code is entered, the door to the box opens. Evy gives the first code to her friends so they can leave messages for her and keeps the second code to herself so that she is the only one who can retrieve the messages.\n",
    "\n",
    "B. Finn and Gwen develop a system that maps each letter of the alphabet to a unique symbol using a secret key. Finn uses the key to write a message to Gwen where each letter is replaced with the corresponding symbol. Gwen uses the key to map each symbol back to the original letter.\n",
    "\n",
    "C. Hannah writes a message to send to Isabel and hides the message under a rock behind the soccer field. Hannah gives Isabel the exact location of the rock so that only Isabel can find the message.\n",
    "\n",
    "D. Juan writes a message to send to Kelly and slides the message through a slot in the front of Kelly’s locker. Juan knows that Kelly has not shared her locker combination with anyone, so no one other than Kelly will be able to read the message.\n",
    "\n",
    "Answer: B. Because Symmetric encryption uses the same key for both encryption and decryption. In option B, Finn and Gwen use the same secret key to encode and decode messages, making it an example of symmetric encryption.\n",
    "\n",
    "# Popcorn hack 3\n",
    "\n",
    "Secure Password: tZ6^;j<yph63oIml\n",
    "\n",
    "This is a strong password because  it is 16 characters long, making it resistant to brute-force attacks. It includes a mix of uppercase and lowercase letters, numbers, and special symbols, which increases complexity and makes it harder to crack. Additionally, it does not contain common words, phrases, or predictable patterns, reducing vulnerability to dictionary attacks. The inclusion of random characters also ensures it is not easily guessable. Furthermore, it avoids any personal information, such as names or birthdays, making it even more secure. Overall, its length, randomness, and variety of characters make it a highly secure password.\n",
    "\n",
    "## What makes a good password\n",
    "\n",
    "A good password is long, complex, and unique. It should be at least 12–16 characters long to resist brute-force attacks. A strong password includes a mix of uppercase and lowercase letters, numbers, and special symbols to increase complexity. It should avoid common words, phrases, and predictable patterns like \"password123\" or \"qwerty.\" Additionally, a good password is unique and not reused across multiple accounts to prevent security breaches. Using passphrases (a random combination of words) can also make passwords both strong and memorable. For maximum security, a password manager can help generate and store complex passwords safely.\n"
   ]
  }
 ],
 "metadata": {
  "language_info": {
   "name": "python"
  }
 },
 "nbformat": 4,
 "nbformat_minor": 2
}
