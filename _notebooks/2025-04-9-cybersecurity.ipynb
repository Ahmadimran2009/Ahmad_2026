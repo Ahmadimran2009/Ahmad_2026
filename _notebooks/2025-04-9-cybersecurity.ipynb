{
 "cells": [
  {
   "cell_type": "code",
   "execution_count": null,
   "metadata": {
    "vscode": {
     "languageId": "yaml"
    }
   },
   "outputs": [],
   "source": [
    "---\n",
    "layout: post\n",
    "title: cybersecurity\n",
    "description: notes on cybersecurity\n",
    "courses: { csp: {week: 25} }\n",
    "author: Ahmad Imran\n",
    "type: ccc\n",
    "---"
   ]
  },
  {
   "cell_type": "markdown",
   "metadata": {},
   "source": [
    "# Cybersecurity Career Insights\n",
    "\n",
    "## David\n",
    "- Works in government cybersecurity, tracking people.\n",
    "- Concern: Local companies fear being attacked, data held for ransom.\n",
    "- Irony: Hates computers but loves international law and cybersecurity.\n",
    "- Focuses on law enforcement — determining what is legal or illegal online.\n",
    "- Skilled hackers are valuable for improving security — they know the tricks.\n",
    "- Career goal: Hunt bad actors using cybersecurity.\n",
    "- Leadership qualities: Be organized, work hard, and be likable.\n",
    "- Learned quickly, especially after realizing his initial arrogance.\n",
    "- AI can be trained on both code and natural language.\n",
    "- Importance of networking: Know smart people and build strong relationships.\n",
    "- Best cybersecurity professionals:\n",
    "  - Curious\n",
    "  - Passionate\n",
    "  - Willing to do whatever it takes\n",
    "- Recommended resource: **CC Cybersecurity Certification** (offers free exposure to cyber skills).\n",
    "\n",
    "---\n",
    "\n",
    "## Victor Nzeata\n",
    "- CEO in cybersecurity, works closely with others in the field.\n",
    "- Concern: AI used for ransomware as a service.\n",
    "- Cybersecurity education is crucial, especially involving ethical hackers.\n",
    "- **Zero-day vulnerability**: No patch available yet. Example: Microsoft updates pull from cloud without checking source.\n",
    "- Hackers help improve security — like testing your home's safety using a real burglar.\n",
    "- Works with ransomware; notes how much cybersecurity evolved in 10 years (unlike Java).\n",
    "- Recommended starting point: Get a background in IT.\n",
    "- Soft skills matter: Build and join a good team.\n",
    "- Future outlook:\n",
    "  - Healthcare IT will grow in 5–10 years.\n",
    "  - AI specialists will be in high demand.\n",
    "- Tip: Stay updated with new technology trends.\n",
    "\n",
    "---\n",
    "\n",
    "## Tricia (Cybersecurity & Finance)\n",
    "- Works with people in financial trouble.\n",
    "- Cyber background — discovered company stealing data and filed a lawsuit.\n",
    "- Works to prevent data theft and internal threats.\n",
    "- Concern: Many people lack security awareness.\n",
    "- Emphasizes value of personal data and the role of hackers in protecting it.\n",
    "- Career advice:\n",
    "  - Read a book to learn about computers.\n",
    "  - IT background is helpful.\n",
    "  - Learn computing basics before diving into cybersecurity.\n",
    "- Industry: Business\n",
    "  - Challenges include merging leadership with business acumen.\n",
    "  - Important to speak the language of business while showcasing technical expertise.\n",
    "- Skill tip: Know how to secure code.\n",
    "- Stay informed: Read about global events related to security.\n",
    "\n",
    "---\n",
    "\n",
    "## Final Takeaway\n",
    "Cybersecurity is more important than ever — protecting people, companies, and global systems requires skilled, curious, and passionate professionals who stay informed and work well with others."
   ]
  }
 ],
 "metadata": {
  "language_info": {
   "name": "python"
  }
 },
 "nbformat": 4,
 "nbformat_minor": 2
}
