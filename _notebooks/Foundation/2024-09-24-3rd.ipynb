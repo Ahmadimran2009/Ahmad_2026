{
 "cells": [
  {
   "cell_type": "raw",
   "metadata": {
    "vscode": {
     "languageId": "raw"
    }
   },
   "source": [
    "---\n",
    "layout: post\n",
    "title: accomplishments vs need to do\n",
    "description:  click here \n",
    "type: issues \n",
    "comments: true\n",
    "---"
   ]
  },
  {
   "cell_type": "markdown",
   "metadata": {},
   "source": [
    "accomplishments\n",
    "- I got all the different tools such as vscode and github and jupyter notebooks\n",
    "- Created a new repository on github nd started my website\n",
    "- made new notebooks\n",
    "- added new tabs, buttons, slide shows and images\n",
    "Need to do\n",
    "- add the nessecary hacks that I need to do\n",
    "- finish my about me page\n",
    "- repair my submenu which is not working at the moment\n",
    "- change to a better theme and add the music"
   ]
  }
 ],
 "metadata": {
  "kernelspec": {
   "display_name": "venv",
   "language": "python",
   "name": "python3"
  },
  "language_info": {
   "codemirror_mode": {
    "name": "ipython",
    "version": 3
   },
   "file_extension": ".py",
   "mimetype": "text/x-python",
   "name": "python",
   "nbconvert_exporter": "python",
   "pygments_lexer": "ipython3",
   "version": "3.10.12"
  }
 },
 "nbformat": 4,
 "nbformat_minor": 2
}
