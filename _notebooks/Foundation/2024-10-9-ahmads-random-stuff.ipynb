{
 "cells": [
  {
   "cell_type": "code",
   "execution_count": null,
   "metadata": {
    "vscode": {
     "languageId": "yaml"
    }
   },
   "outputs": [],
   "source": [
    "-layout: post\n",
    "title: PPR Blog\n",
    "description: This is my PPR Blog\n",
    "type: issues\n",
    "comments: True\n",
    "---"
   ]
  },
  {
   "cell_type": "markdown",
   "metadata": {},
   "source": [
    "# PPR blog\n",
    "\n",
    "Personalized Project Reference (PPR)"
   ]
  },
  {
   "cell_type": "markdown",
   "metadata": {},
   "source": [
    "# Parts of PPR, Component C of CPT:\n",
    "\n",
    "## 4 Code segments to be submitted\n",
    "- List creation\n",
    "- List processing\n",
    "- Function (with parameters that goes through the list and has an if else statement, sequencing, selection, iteration)\n",
    "- Call to function\n",
    "\n",
    "# List Creation"
   ]
  },
  {
   "cell_type": "code",
   "execution_count": null,
   "metadata": {},
   "outputs": [],
   "source": [
    "def get(self):            \n",
    "    items = FridgeItem.query.all()\n",
    "    \n",
    "    if not items:\n",
    "        return jsonify({\"message\": \"No items found in the fridge.\"}), 404\n",
    "    \n",
    "    return jsonify([item.read() for item in items]), 200\n"
   ]
  },
  {
   "cell_type": "markdown",
   "metadata": {},
   "source": [
    "Explanation: This Python function retrieves all fridge items from the FridgeItem database table using query.all(). If no items are found, it returns a 404 response with a message. Otherwise, it processes each item by calling its .read() method, converting the database objects into dictionaries. The function then returns the full list of fridge items as a JSON response with a 200 status.\n",
    "\n",
    "# List Process"
   ]
  },
  {
   "cell_type": "code",
   "execution_count": null,
   "metadata": {},
   "outputs": [],
   "source": [
    "json_ready = [item.read() for item in items]"
   ]
  },
  {
   "cell_type": "markdown",
   "metadata": {},
   "source": [
    "Explanation: This line creates a new list called json_ready by iterating over each item in the items list. It uses list comprehension ([] with a loop inside) to efficiently process each fridge item. The .read() method converts each database object into a dictionary, making the data JSON serializable and ready for response.\n",
    "\n",
    "# Function (with parameters, and if-else statement)"
   ]
  },
  {
   "cell_type": "code",
   "execution_count": null,
   "metadata": {},
   "outputs": [],
   "source": [
    "@token_required()\n",
    "def post(self):\n",
    "    current_user = g.current_user  # Get the authenticated user\n",
    "    data = request.get_json()  # Parse JSON request data\n",
    "\n",
    "    # Validate required field\n",
    "    if not data or not data.get('name'):\n",
    "        return jsonify({'message': 'Grocery item must have a name'}), 400  \n",
    "\n",
    "    # Create a new grocery item\n",
    "    grocery_item = GroceryItem(\n",
    "        name=data['name'],\n",
    "        quantity=data.get('quantity', 1),  # Default quantity is 1\n",
    "        category=data.get('category', 'Uncategorized'),  # Default category\n",
    "        expiration_date=data.get('expiration_date'),\n",
    "        user_id=current_user.id  # Associate item with the user\n",
    "    )\n",
    "\n",
    "    grocery_item.create()  # Save to database\n",
    "    return jsonify({'message': 'Grocery item added successfully', 'item': grocery_item.read()}), 201"
   ]
  },
  {
   "cell_type": "markdown",
   "metadata": {},
   "source": [
    "Explanation: This function adds a new grocery item for the current user. It accepts JSON input, extracts necessary fields, and associates the item with the logged-in user. The function includes validation using g.current_user, ensuring that only authenticated users can add groceries. If no name is provided, it returns an error. Successfully added items are saved to the database and returned as a JSON response.\n",
    "\n",
    "# call to Function"
   ]
  },
  {
   "cell_type": "code",
   "execution_count": null,
   "metadata": {
    "vscode": {
     "languageId": "javascript"
    }
   },
   "outputs": [],
   "source": [
    "async function addGroceryItem(name, quantity, category, expirationDate) {\n",
    "  const groceryData = {\n",
    "    name,\n",
    "    quantity: quantity || 1, // Default to 1 if not provided\n",
    "    category: category || \"Uncategorized\", // Default category\n",
    "    expiration_date: expirationDate,\n",
    "  };\n",
    "\n",
    "  try {\n",
    "    const response = await fetch(`${pythonURI}/api/groceries`, {\n",
    "      ...fetchOptions,\n",
    "      method: 'POST',\n",
    "      body: JSON.stringify(groceryData),\n",
    "    });\n",
    "\n",
    "    if (!response.ok) {\n",
    "      throw new Error(`Failed to add grocery: ${response.statusText}`);\n",
    "    }\n",
    "\n",
    "    const result = await response.json();\n",
    "    console.log('Grocery item added successfully:', result);\n",
    "\n",
    "  } catch (error) {\n",
    "    console.error('Error adding grocery item:', error);\n",
    "    alert('Error adding grocery item: ' + error.message);\n",
    "  }\n",
    "}"
   ]
  },
  {
   "cell_type": "markdown",
   "metadata": {},
   "source": [
    "Explanation: This line calls the database to retrieve all grocery items. It fetches every record in the GroceryItem table and returns them as a list of model instances, representing all groceries stored in the fridge.\n",
    "\n",
    "# Summary\n",
    "\n",
    "Data Compilation: Collects all grocery items into a structured list for easy access and display.\n",
    "\n",
    "Functionality: Handles adding new grocery items, linking them to specific users, and ensuring proper validation to prevent errors.\n",
    "\n",
    "API Interaction: Facilitates retrieving and displaying stored groceries through GET requests, allowing users to manage their fridge inventory effortlessly.\n",
    "\n",
    "This API streamlines grocery management by enabling secure, efficient, and organized handling of food items, ensuring a seamless user experience"
   ]
  },
  {
   "cell_type": "markdown",
   "metadata": {},
   "source": [
    "<script src=\"https://utteranc.es/client.js\"\n",
    "        repo=\"Ahmadimran2009/Ahmad_2025\"\n",
    "        issue-term=\"title\"\n",
    "        label=\"blogpost-comment\"\n",
    "        theme=\"github-light\"\n",
    "        crossorigin=\"anonymous\"\n",
    "        async>\n",
    "</script>"
   ]
  },
  {
   "cell_type": "markdown",
   "metadata": {},
   "source": [
    "<script src=\"https://utteranc.es/client.js\"\n",
    "        repo=\"Ahmadimran2009/Ahmad_2025\"\n",
    "        issue-term=\"title\"\n",
    "        label=\"blogpost-comment\"\n",
    "        theme=\"github-light\"\n",
    "        crossorigin=\"anonymous\"\n",
    "        async>\n",
    "</script>"
   ]
  }
 ],
 "metadata": {
  "kernelspec": {
   "display_name": "venv",
   "language": "python",
   "name": "python3"
  },
  "language_info": {
   "codemirror_mode": {
    "name": "ipython",
    "version": 3
   },
   "file_extension": ".py",
   "mimetype": "text/x-python",
   "name": "python",
   "nbconvert_exporter": "python",
   "pygments_lexer": "ipython3",
   "version": "3.10.12"
  }
 },
 "nbformat": 4,
 "nbformat_minor": 2
}
