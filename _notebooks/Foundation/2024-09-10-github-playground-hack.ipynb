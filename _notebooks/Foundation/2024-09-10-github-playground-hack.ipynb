{
 "cells": [
  {
   "cell_type": "raw",
   "metadata": {
    "vscode": {
     "languageId": "raw"
    }
   },
   "source": [
    "---\n",
    "layout: post\n",
    "title: Ahmads blog!!!\n",
    "description:  click here to see my blog\n",
    "type: issues \n",
    "comments: true\n",
    "---"
   ]
  },
  {
   "cell_type": "markdown",
   "metadata": {},
   "source": [
    "# Ahmads blog\n",
    "Hi, and welcome to my blog. \n",
    "# these are my accomplishments and what I need to fix\n",
    "\n",
    "my accomplishments are that I can confidently toggle between 2 themes, I have a very good snake game that I can operate but I want to make the controls wasd so that is one thing I need to fix. Another thing I need to fix is my calculator which works but looks weird due to its formation, so I need to fix that."
   ]
  }
 ],
 "metadata": {
  "language_info": {
   "name": "python"
  }
 },
 "nbformat": 4,
 "nbformat_minor": 2
}
