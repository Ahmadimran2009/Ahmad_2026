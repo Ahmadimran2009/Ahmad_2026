{
 "cells": [
  {
   "cell_type": "code",
   "execution_count": null,
   "id": "ad9677ba",
   "metadata": {
    "vscode": {
     "languageId": "yaml"
    }
   },
   "outputs": [],
   "source": [
    "\n",
    "---\n",
    "layout: post\n",
    "title: Random Algorithms\n",
    "description: notes on Random Algorithms\n",
    "courses: { csp: {week: 25} }\n",
    "author: Ahmad Imran\n",
    "type: ccc\n",
    "---"
   ]
  },
  {
   "cell_type": "markdown",
   "id": "d158a196",
   "metadata": {},
   "source": [
    "# Popcorn hack 1\n",
    "\n",
    "A random algorithm uses chance to make decisions, so it can produce different results each time. It’s useful in coding for things like games (shuffling cards), security (adding unpredictability), and simulations (mimicking real-life randomness). Randomness can also speed up some algorithms or help when exact solutions are hard to find. The College Board may ask about how random algorithms produce different outcomes and why they’re useful, like in games or simulations. Questions focus on understanding unpredictability, fairness, and the role of randomness in solving real-world problems.\n",
    "\n",
    "# Popcorn hack 2\n",
    "\n"
   ]
  },
  {
   "cell_type": "code",
   "execution_count": 1,
   "id": "5a730757",
   "metadata": {},
   "outputs": [
    {
     "data": {
      "text/plain": [
       "'Go for a walk while listening to a podcast'"
      ]
     },
     "execution_count": 1,
     "metadata": {},
     "output_type": "execute_result"
    }
   ],
   "source": [
    "import random\n",
    "\n",
    "# Updated list of activities\n",
    "activities = [\n",
    "    'Lift weights at the gym',\n",
    "    'Work on coding project',\n",
    "    'Practice soccer skills',\n",
    "    'Meal prep a healthy lunch',\n",
    "    'Study AP Biology flashcards',\n",
    "    'Take a 20-minute power nap',\n",
    "    'Go for a walk while listening to a podcast',\n",
    "    'Stretch and do mobility exercises',\n",
    "    'Watch a documentary',\n",
    "    'Do a quick home workout',\n",
    "    'Clean your room and organize your desk'\n",
    "]\n",
    "\n",
    "# Randomly choose an activity\n",
    "random_activity = random.choice(activities)\n",
    "\n",
    "# Display the chosen activity\n",
    "random_activity\n"
   ]
  },
  {
   "cell_type": "markdown",
   "id": "8c7272cb",
   "metadata": {},
   "source": [
    "This code gives a random outcome out of the activities listed, this time I got 'Go for a walk while listening to a podcast'"
   ]
  },
  {
   "cell_type": "markdown",
   "id": "1723cba7",
   "metadata": {},
   "source": [
    "# Popcorn hack 3\n"
   ]
  },
  {
   "cell_type": "code",
   "execution_count": 2,
   "id": "510ec6a2",
   "metadata": {},
   "outputs": [
    {
     "data": {
      "text/plain": [
       "['Ahmad will be monitoring the photo booth!',\n",
       " 'Arhaan will be monitoring the music station!',\n",
       " 'Manas will be monitoring the snack table!',\n",
       " 'Kree will be monitoring the welcome desk!',\n",
       " 'Vasanth will be monitoring the game zone!']"
      ]
     },
     "execution_count": 2,
     "metadata": {},
     "output_type": "execute_result"
    }
   ],
   "source": [
    "import random\n",
    "\n",
    "# Updated names and party activities\n",
    "hosts = ['Ahmad', 'Arhaan', 'Manas', 'Kree', 'Vasanth']\n",
    "activities = ['music station', 'snack table', 'photo booth', 'game zone', 'welcome desk']\n",
    "\n",
    "# Shuffle the activities to randomly assign them\n",
    "random.shuffle(activities)\n",
    "\n",
    "# Assign each host to a randomly shuffled activity\n",
    "assignments = [f\"{hosts[i]} will be monitoring the {activities[i]}!\" for i in range(len(hosts))]\n",
    "assignments\n"
   ]
  },
  {
   "cell_type": "markdown",
   "id": "0a489aa9",
   "metadata": {},
   "source": [
    "# Results\n",
    "\n",
    "'Ahmad will be monitoring the photo booth!',\n",
    "'Arhaan will be monitoring the music station!',\n",
    "'Manas will be monitoring the snack table!',\n",
    "'Kree will be monitoring the welcome desk!',\n",
    "'Vasanth will be monitoring the game zone!'\n",
    "\n",
    "# Popcorn hack 1\n"
   ]
  },
  {
   "cell_type": "code",
   "execution_count": 3,
   "id": "66293563",
   "metadata": {},
   "outputs": [
    {
     "data": {
      "text/plain": [
       "4"
      ]
     },
     "execution_count": 3,
     "metadata": {},
     "output_type": "execute_result"
    }
   ],
   "source": [
    "import random\n",
    "\n",
    "# Simulating a number spinner with a custom range (e.g., 1 to 20)\n",
    "spinner_range = list(range(1, 21))  # Spinner with numbers from 1 to 20\n",
    "\n",
    "# Randomly select a number from the spinner\n",
    "spinner_result = random.choice(spinner_range)\n",
    "\n",
    "spinner_result"
   ]
  },
  {
   "cell_type": "markdown",
   "id": "92834e66",
   "metadata": {},
   "source": [
    "# Result\n",
    "4\n",
    "\n",
    "# Popcorn hack 2"
   ]
  },
  {
   "cell_type": "code",
   "execution_count": 7,
   "id": "71967ed0",
   "metadata": {},
   "outputs": [
    {
     "name": "stdout",
     "output_type": "stream",
     "text": [
      "Computer chose: scissors\n",
      "You chose: paper\n",
      "You lose!\n"
     ]
    }
   ],
   "source": [
    "import random\n",
    "\n",
    "def play_rock_paper_scissors():\n",
    "    choices = ['rock', 'paper', 'scissors']\n",
    "    computer_choice = random.choice(choices)\n",
    "    user_choice = input(\"Enter your choice (rock, paper, or scissors): \")\n",
    "\n",
    "    if user_choice not in choices:\n",
    "        print(\"Invalid choice. Please try again.\")\n",
    "        return\n",
    "\n",
    "    print(\"Computer chose:\", computer_choice)\n",
    "    print(\"You chose:\", user_choice)\n",
    "\n",
    "    if user_choice == computer_choice:\n",
    "        print(\"It's a tie!\")\n",
    "    elif (user_choice == 'rock' and computer_choice == 'scissors') or (user_choice == 'paper' and computer_choice == 'rock') or (user_choice == 'scissors' and computer_choice == 'paper'):\n",
    "        print(\"You win!\")\n",
    "    else:\n",
    "        print(\"You lose!\")\n",
    "\n",
    "play_rock_paper_scissors()"
   ]
  },
  {
   "cell_type": "markdown",
   "id": "94124b0a",
   "metadata": {},
   "source": [
    "# Results\n",
    "\n",
    "Rock is a win\n",
    "scissors is a loss\n",
    "paper is a loss"
   ]
  },
  {
   "cell_type": "markdown",
   "id": "6779c5cc",
   "metadata": {},
   "source": [
    "# Homework Hacks\n",
    "\n"
   ]
  },
  {
   "cell_type": "code",
   "execution_count": 8,
   "id": "82e8f623",
   "metadata": {},
   "outputs": [
    {
     "name": "stdout",
     "output_type": "stream",
     "text": [
      "Team Thunder: Ahmad, Leo, Maya, Sofia, Noah, Liam, Emma, Aria\n",
      "Team Phoenix: Ethan, Ava, Jackson\n",
      "Team Eclipse: Zara, Jaden, Olivia, Lucas\n"
     ]
    }
   ],
   "source": [
    "import random\n",
    "\n",
    "# List of 15 students\n",
    "students = [\n",
    "    'Ahmad', 'Zara', 'Leo', 'Maya', 'Jaden',\n",
    "    'Sofia', 'Noah', 'Olivia', 'Ethan', 'Ava',\n",
    "    'Liam', 'Emma', 'Jackson', 'Aria', 'Lucas'\n",
    "]\n",
    "\n",
    "# Creative team names\n",
    "teams = ['Team Thunder', 'Team Phoenix', 'Team Eclipse']\n",
    "\n",
    "# Dictionary to hold team assignments\n",
    "team_assignments = {team: [] for team in teams}\n",
    "\n",
    "# Randomly assign each student to a team\n",
    "for student in students:\n",
    "    team = random.choice(teams)\n",
    "    team_assignments[team].append(student)\n",
    "\n",
    "# Print the assignments\n",
    "for team, members in team_assignments.items():\n",
    "    print(f\"{team}: {', '.join(members)}\")\n"
   ]
  },
  {
   "cell_type": "code",
   "execution_count": 9,
   "id": "b452400e",
   "metadata": {},
   "outputs": [
    {
     "data": {
      "text/plain": [
       "{'Day 1': 'Sunny',\n",
       " 'Day 2': 'Sunny',\n",
       " 'Day 3': 'Sunny',\n",
       " 'Day 4': 'Rainy',\n",
       " 'Day 5': 'Cloudy',\n",
       " 'Day 6': 'Cloudy',\n",
       " 'Day 7': 'Cloudy'}"
      ]
     },
     "execution_count": 9,
     "metadata": {},
     "output_type": "execute_result"
    }
   ],
   "source": [
    "import random\n",
    "\n",
    "# List of possible weather types\n",
    "weather_types = ['Sunny', 'Cloudy', 'Rainy']\n",
    "\n",
    "# Simulate the weather for 7 days\n",
    "forecast = {f\"Day {i+1}\": random.choice(weather_types) for i in range(7)}\n",
    "\n",
    "forecast\n"
   ]
  },
  {
   "cell_type": "code",
   "execution_count": 10,
   "id": "370f5eb7",
   "metadata": {},
   "outputs": [
    {
     "data": {
      "text/plain": [
       "({'Customer 1': 1,\n",
       "  'Customer 2': 3,\n",
       "  'Customer 3': 3,\n",
       "  'Customer 4': 2,\n",
       "  'Customer 5': 2},\n",
       " 11)"
      ]
     },
     "execution_count": 10,
     "metadata": {},
     "output_type": "execute_result"
    }
   ],
   "source": [
    "import random\n",
    "\n",
    "# Simulate a coffee shop with 5 customers, each with a random service time between 1 and 5 minutes\n",
    "customer_count = 5\n",
    "service_times = [random.randint(1, 5) for _ in range(customer_count)]\n",
    "\n",
    "# Calculate the total time to serve all customers\n",
    "total_service_time = sum(service_times)\n",
    "\n",
    "# Simulate the queue and print each customer's service time\n",
    "queue_details = {f\"Customer {i+1}\": service_times[i] for i in range(customer_count)}\n",
    "\n",
    "queue_details, total_service_time\n"
   ]
  }
 ],
 "metadata": {
  "kernelspec": {
   "display_name": "venv",
   "language": "python",
   "name": "python3"
  },
  "language_info": {
   "codemirror_mode": {
    "name": "ipython",
    "version": 3
   },
   "file_extension": ".py",
   "mimetype": "text/x-python",
   "name": "python",
   "nbconvert_exporter": "python",
   "pygments_lexer": "ipython3",
   "version": "3.10.12"
  }
 },
 "nbformat": 4,
 "nbformat_minor": 5
}
