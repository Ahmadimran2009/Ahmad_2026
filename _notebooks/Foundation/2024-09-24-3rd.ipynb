{
 "cells": [
  {
   "cell_type": "raw",
   "metadata": {
    "vscode": {
     "languageId": "raw"
    }
   },
   "source": [
    "---\n",
    "layout: post\n",
    "title: MCQ reflection\n",
    "description:  click here \n",
    "type: issues \n",
    "comments: true\n",
    "---"
   ]
  },
  {
   "cell_type": "markdown",
   "metadata": {},
   "source": [
    "\n",
    "Total score 59/67 (huge improvement from last time)\n",
    "\n",
    "Total time spent- 03:26:23\n",
    "\n",
    "<img src=\"{{site.baseurl}}/images/newmcq.png\" alt=\"image\">\n",
    "\n",
    "## weaknesses and how I will improve\n",
    "\n",
    "Legal and ethical concerns- The one question I got wrong was number 51, as I did not fully understand all of the temrinology. I need to remember Creative Commons licensing allows copyright owners to specify the ways in which their works can be used or distributed. This allows individuals to access or modify these works without the risk of violating copyright laws.\n",
    "\n",
    "Binary- I understand binary to a level but i find it difficult when binary is combined with other aspects. I will review the questions I got wrong, rewatch AP videos, and try to learn as much binary I can with the help of my dad who is really good binary\n",
    "\n",
    "Identifying and correcting errors- Evaluate all options. I have a general idea of the answers because I got at least one question correct, but I need to be more careful when evaluating the second option and should read all choices rather than finding an option and moving on. Rewatch 1.4 Daily AP Videos 1-3."
   ]
  },
  {
   "cell_type": "markdown",
   "metadata": {},
   "source": [
    "<script src=\"https://utteranc.es/client.js\"\n",
    "        repo=\"Ahmadimran2009/Ahmad_2025\"\n",
    "        issue-term=\"title\"\n",
    "        label=\"blogpost-comment\"\n",
    "        theme=\"github-light\"\n",
    "        crossorigin=\"anonymous\"\n",
    "        async>\n",
    "</script>"
   ]
  }
 ],
 "metadata": {
  "kernelspec": {
   "display_name": "venv",
   "language": "python",
   "name": "python3"
  },
  "language_info": {
   "codemirror_mode": {
    "name": "ipython",
    "version": 3
   },
   "file_extension": ".py",
   "mimetype": "text/x-python",
   "name": "python",
   "nbconvert_exporter": "python",
   "pygments_lexer": "ipython3",
   "version": "3.10.12"
  }
 },
 "nbformat": 4,
 "nbformat_minor": 2
}
