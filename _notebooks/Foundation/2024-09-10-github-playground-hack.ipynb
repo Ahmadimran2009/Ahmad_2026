{
 "cells": [
  {
   "cell_type": "raw",
   "metadata": {
    "vscode": {
     "languageId": "raw"
    }
   },
   "source": [
    "---\n",
    "layout: post\n",
    "title: Ahmads blog!!!\n",
    "description:  click here to see my blog\n",
    "type: issues \n",
    "comments: true\n",
    "---"
   ]
  },
  {
   "cell_type": "markdown",
   "metadata": {},
   "source": [
    "# Ahmads blog\n",
    "Hi, and welcome to my blog. Right now I have not done anything but enjoy this fun little thing I made.\n",
    "<html lang=\"en\">\n",
    "<head>\n",
    "    <meta charset=\"UTF-8\">\n",
    "    <meta name=\"viewport\" content=\"width=device-width, initial-scale=1.0\">\n",
    "    <title>Animated Text</title>\n",
    "    <style>\n",
    "        body {\n",
    "            display: flex;\n",
    "            align-items: center;\n",
    "            justify-content: center;\n",
    "            height: 100vh;\n",
    "            margin: 0;\n",
    "            background-color: #282c34;\n",
    "            color: #61dafb;\n",
    "            font-family: 'Arial', sans-serif;\n",
    "            text-align: center;\n",
    "        }\n",
    "\n",
    "        .animated-text {\n",
    "            font-size: 2rem;\n",
    "            font-weight: bold;\n",
    "            animation: textAnimation 2s infinite;\n",
    "        }\n",
    "\n",
    "        @keyframes textAnimation {\n",
    "            0% { opacity: 0; transform: translateY(-20px); }\n",
    "            50% { opacity: 1; transform: translateY(0); }\n",
    "            100% { opacity: 0; transform: translateY(20px); }\n",
    "        }\n",
    "    </style>\n",
    "</head>\n",
    "<body>\n",
    "    <div class=\"animated-text\">Hello, World!</div>\n",
    "</body>\n",
    "</html>\n",
    "\n"
   ]
  }
 ],
 "metadata": {
  "language_info": {
   "name": "python"
  }
 },
 "nbformat": 4,
 "nbformat_minor": 2
}
