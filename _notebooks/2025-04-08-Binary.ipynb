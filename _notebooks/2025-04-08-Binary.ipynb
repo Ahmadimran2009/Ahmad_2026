{
 "cells": [
  {
   "cell_type": "markdown",
   "metadata": {},
   "source": [
    "---\n",
    "layout: post\n",
    "categories: [CSP Big Idea 3]\n",
    "title: Binary Search\n",
    "description: Hacks for binary search\n",
    "courses: { csp: {week: 25} }\n",
    "author: Ahmad Imran\n",
    "type: ccc\n",
    "---"
   ]
  },
  {
   "cell_type": "markdown",
   "metadata": {},
   "source": [
    "# Popcorn hack 1\n",
    "\n",
    "Which of the following conditions must be met in order for the procedure to work as intended? Explain why.\n",
    "\n",
    "a. The length of numList must be even\n",
    "\n",
    "b. The list numList must not contain any duplicate values\n",
    "\n",
    "c. The values in numList must be in sorted order\n",
    "\n",
    "d. The value of target must not be equal to -1\n",
    "\n",
    "The answer is C because the list must be sorted because procedures like binary search use order to decide where to search next. Without sorting, the algorithm can't make correct decisions and may fail.\n",
    "\n",
    "# Popcorn hack 2\n",
    "\n",
    "Which of the following statements correctly describes a disadvantage of binary search compared to linear search? Explain why your answer is correct and why the others are wrong.\n",
    "\n",
    "a Binary search takes more time on average than linear search  \n",
    "b Binary search cannot be used on unsorted lists without modifications  \n",
    "c Binary search always ret urns the first occurrence of the target  \n",
    "d Binary search can only be used on lists with unique values\n",
    "\n",
    "The correct answer is B because binary search only works properly if the list is sorted. Without sorting, it can’t reliably decide whether to search left or right, which breaks the logic of the search.\n",
    "\n",
    "# Popcorn hack 3\n"
   ]
  },
  {
   "cell_type": "code",
   "execution_count": 1,
   "metadata": {},
   "outputs": [
    {
     "name": "stdout",
     "output_type": "stream",
     "text": [
      "2\n"
     ]
    }
   ],
   "source": [
    "def binary_search(arr, target):\n",
    "    left = 0\n",
    "    right = len(arr) - 1\n",
    "    \n",
    "    while left <= right:\n",
    "        mid = (left + right) // 2\n",
    "        \n",
    "        if arr[mid] == target:\n",
    "            return mid\n",
    "        elif arr[mid] < target:\n",
    "            left = mid + 1\n",
    "        else:\n",
    "            right = mid - 1\n",
    "    \n",
    "    return -1  # Target not found\n",
    "\n",
    "# Example usage:\n",
    "letters = ['a', 'b', 'c', 'd', 'e', 'f', 'g']\n",
    "print(binary_search(letters, 'c'))  # Output: 2\n"
   ]
  },
  {
   "cell_type": "markdown",
   "metadata": {},
   "source": [
    "# Homework Hack"
   ]
  },
  {
   "cell_type": "code",
   "execution_count": 3,
   "metadata": {},
   "outputs": [
    {
     "name": "stdout",
     "output_type": "stream",
     "text": [
      "First few rows of sorted data:\n",
      "        Product  Price\n",
      "5        Eraser   0.50\n",
      "14  Paper Clips   0.89\n",
      "2        Pencil   0.99\n",
      "9    Glue Stick   1.25\n",
      "1           Pen   1.50\n",
      "Original row count: 15\n",
      "Cleaned row count: 15\n",
      "Price $1.25 was found in the list.\n",
      "Price $6.49 was found in the list.\n",
      "Price $10.0 was NOT found in the list.\n"
     ]
    }
   ],
   "source": [
    "import pandas as pd\n",
    "\n",
    "# Load the dataset\n",
    "data = pd.read_csv(\"school_supplies.csv\")\n",
    "\n",
    "# Drop rows with missing values\n",
    "data_cleaned = data.dropna()\n",
    "\n",
    "# Sort the data by 'Price'\n",
    "data_sorted = data_cleaned.sort_values(by=\"Price\")\n",
    "\n",
    "# Extract sorted prices as a list\n",
    "price_list = data_sorted[\"Price\"].tolist()\n",
    "\n",
    "# Preview the sorted data\n",
    "print(\"First few rows of sorted data:\")\n",
    "print(data_sorted.head())\n",
    "print(\"Original row count:\", len(data))\n",
    "print(\"Cleaned row count:\", len(data_cleaned))\n",
    "\n",
    "# Binary search function\n",
    "def binary_search_price(price_list, target):\n",
    "    left, right = 0, len(price_list) - 1\n",
    "    while left <= right:\n",
    "        mid = (left + right) // 2\n",
    "        if price_list[mid] == target:\n",
    "            return True\n",
    "        elif price_list[mid] < target:\n",
    "            left = mid + 1\n",
    "        else:\n",
    "            right = mid - 1\n",
    "    return False\n",
    "\n",
    "# Prices to search for\n",
    "search_prices = [1.25, 6.49, 10.00]\n",
    "\n",
    "# Search and print results\n",
    "for price in search_prices:\n",
    "    found = binary_search_price(price_list, price)\n",
    "    if found:\n",
    "        print(f\"Price ${price} was found in the list.\")\n",
    "    else:\n",
    "        print(f\"Price ${price} was NOT found in the list.\")"
   ]
  }
 ],
 "metadata": {
  "kernelspec": {
   "display_name": "venv",
   "language": "python",
   "name": "python3"
  },
  "language_info": {
   "codemirror_mode": {
    "name": "ipython",
    "version": 3
   },
   "file_extension": ".py",
   "mimetype": "text/x-python",
   "name": "python",
   "nbconvert_exporter": "python",
   "pygments_lexer": "ipython3",
   "version": "3.10.12"
  }
 },
 "nbformat": 4,
 "nbformat_minor": 2
}
