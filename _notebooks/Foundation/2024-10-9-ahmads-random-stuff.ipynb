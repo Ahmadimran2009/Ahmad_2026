{
 "cells": [
  {
   "cell_type": "raw",
   "metadata": {
    "vscode": {
     "languageId": "raw"
    }
   },
   "source": [
    "---\n",
    "layout: post\n",
    "title: Ahmads random stuff\n",
    "description:  this is a place for random stuff\n",
    "type: issues\n",
    "permalink: /posts/random\n",
    "comments: true\n",
    "---"
   ]
  },
  {
   "cell_type": "code",
   "execution_count": 13,
   "metadata": {
    "vscode": {
     "languageId": "javascript"
    }
   },
   "outputs": [
    {
     "name": "stdout",
     "output_type": "stream",
     "text": [
      "The fruit is ready to eat!\n"
     ]
    }
   ],
   "source": [
    "# Popcorn hack number 2: Classifying fruit ripeness\n",
    "ripeness = \"Ripe\"\n",
    "\n",
    "if ripeness == \"Ripe\":\n",
    "    print(\"The fruit is ready to eat!\")\n",
    "elif ripeness == \"Unripe\":\n",
    "    print(\"The fruit needs more time to ripen.\")\n",
    "elif ripeness == \"Overripe\":\n",
    "    print(\"The fruit is overripe and should be eaten soon.\")\n",
    "else:\n",
    "    print(\"Unknown ripeness.\")\n"
   ]
  }
 ],
 "metadata": {
  "kernelspec": {
   "display_name": "venv",
   "language": "python",
   "name": "python3"
  },
  "language_info": {
   "codemirror_mode": {
    "name": "ipython",
    "version": 3
   },
   "file_extension": ".py",
   "mimetype": "text/x-python",
   "name": "python",
   "nbconvert_exporter": "python",
   "pygments_lexer": "ipython3",
   "version": "3.10.12"
  }
 },
 "nbformat": 4,
 "nbformat_minor": 2
}
