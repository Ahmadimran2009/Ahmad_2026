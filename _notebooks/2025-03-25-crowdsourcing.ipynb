{
 "cells": [
  {
   "cell_type": "code",
   "execution_count": null,
   "metadata": {
    "vscode": {
     "languageId": "yaml"
    }
   },
   "outputs": [],
   "source": [
    "---\n",
    "layout: post\n",
    "categories: [CSP Big Idea 5]\n",
    "title: Crowdsourcing\n",
    "description: hacks for crowdsourcing.\n",
    "courses: { csp: {week: 25} }\n",
    "author: Ahmad Imran\n",
    "type: ccc\n",
    "---"
   ]
  },
  {
   "cell_type": "markdown",
   "metadata": {},
   "source": [
    "## I rate the mango intro a 10/10 \n",
    "\n",
    "# Popcorn hack 1\n",
    "\n",
    "One example of crowdsourcing I use is Duolingo. While it’s mostly known for language learning, a lot of the example sentences and explanations come from users who suggest edits or help answer questions in the forums. If I ever get confused about why something is said a certain way, I can check the comments, where other learners or native speakers explain it. It makes learning feel more interactive because it’s not just the app — it’s a whole community helping each other out\n",
    "\n",
    "# Popcorn hack 2\n",
    "\n",
    "I don’t think crowdsourcing is always reliable. While it’s great for getting a lot of opinions or real-time updates, not everything people share is accurate. Sometimes there’s outdated or misleading information, and in places like reviews or forums, personal bias can get in the way. It works best when there are a lot of contributors, so you can spot patterns and filter out bad info. But if you trust just one or two opinions, it can definitely lead you in the wrong direction.\n",
    "\n",
    "# Popcorn hack 3\n",
    "\n",
    "Airbnb is a crowdsourced platform that connects hosts offering accommodations with guests looking for a place to stay. It uses crowdsourcing by allowing individuals to list their properties, set their own prices, and manage bookings. Reviews and ratings from past guests help future travelers make informed decisions, and the platform relies on the shared experiences of both hosts and guests to maintain trust and quality. This creates a community-driven marketplace for short-term rentals.\n",
    "\n",
    "# Homework hack\n",
    "\n",
    "The 2 songs I picked to add to the playlist are Crazy story, and Took her to the o by King Von.\n",
    "\n",
    "Crowdsourcing can both improve and harm playlist quality, depending on how it’s managed.\n",
    "\n",
    "Improvement:\n",
    "Crowdsourced playlists often benefit from diverse perspectives, leading to a wide variety of songs and genres. It can introduce people to new music they might not have discovered otherwise. The collective nature of creating playlists means that everyone contributes their preferences, which can result in better-curated playlists that cater to different moods or activities.\n",
    "\n",
    "Harm:\n",
    "On the downside, crowdsourcing can dilute playlist quality if too many random or mismatched songs are added. People may contribute based on personal taste without considering the overall vibe of the playlist, which can make it feel disjointed. Also, if a playlist is too large or poorly curated, it might become overwhelming or difficult to enjoy from start to finish."
   ]
  }
 ],
 "metadata": {
  "language_info": {
   "name": "python"
  }
 },
 "nbformat": 4,
 "nbformat_minor": 2
}
