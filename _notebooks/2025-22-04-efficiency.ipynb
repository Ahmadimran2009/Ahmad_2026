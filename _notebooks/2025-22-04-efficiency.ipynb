{
 "cells": [
  {
   "cell_type": "code",
   "execution_count": null,
   "id": "8424c884",
   "metadata": {},
   "outputs": [],
   "source": [
    "\n",
    "---\n",
    "layout: post\n",
    "title: Algorithm efficiency\n",
    "description: notes on Algorithm efficiency\n",
    "courses: { csp: {week: 25} }\n",
    "author: Ahmad Imran\n",
    "type: ccc\n",
    "---"
   ]
  },
  {
   "cell_type": "markdown",
   "id": "8fdf1290",
   "metadata": {},
   "source": [
    "# popcorn hack 1\n"
   ]
  },
  {
   "cell_type": "code",
   "execution_count": 1,
   "id": "cccaad67",
   "metadata": {},
   "outputs": [
    {
     "name": "stdout",
     "output_type": "stream",
     "text": [
      "Third item (O(1)): 3\n",
      "All items (O(n)):\n",
      "1\n",
      "2\n",
      "3\n",
      "4\n",
      "5\n"
     ]
    }
   ],
   "source": [
    "arr = [1, 2, 3, 4, 5]\n",
    "\n",
    "# Constant time O(1): Accessing the third item (index 2)\n",
    "print(\"Third item (O(1)):\", arr[2])\n",
    "\n",
    "# Linear time O(n): Looping through all items\n",
    "print(\"All items (O(n)):\")\n",
    "for item in arr:\n",
    "    print(item)\n"
   ]
  },
  {
   "cell_type": "markdown",
   "id": "5036675d",
   "metadata": {},
   "source": [
    "# popcorn hack 2"
   ]
  },
  {
   "cell_type": "code",
   "execution_count": 2,
   "id": "7f9024ca",
   "metadata": {},
   "outputs": [
    {
     "name": "stdout",
     "output_type": "stream",
     "text": [
      "(1, 2)\n",
      "(1, 3)\n",
      "(2, 3)\n"
     ]
    }
   ],
   "source": [
    "def print_unique_pairs(arr):\n",
    "    n = len(arr)\n",
    "    for i in range(n):\n",
    "        for j in range(i + 1, n):\n",
    "            print(f\"({arr[i]}, {arr[j]})\")\n",
    "\n",
    "# Example usage\n",
    "arr = [1, 2, 3]\n",
    "print_unique_pairs(arr)\n"
   ]
  },
  {
   "cell_type": "markdown",
   "id": "f9780a19",
   "metadata": {},
   "source": [
    "# explanation\n",
    "\n",
    "The outer loop runs n times.\n",
    "\n",
    "The inner loop runs approximately n - i - 1 times per outer loop.\n",
    "\n",
    "So total iterations ≈ n(n-1)/2, which simplifies to O(n²).\n",
    "\n",
    "This happens because we are generating all pairs of items without repetition.\n",
    "\n",
    "# popcorn hack 3\n",
    "\n",
    "Which of these is inefficient for large inputs?\n",
    "\n",
    "a Linear Time\n",
    "b Factorial Time\n",
    "c Constant Time\n",
    "d Linearithic Time\n",
    "\n",
    "Which of these can be represented by a nested loop?\n",
    "\n",
    "a Logarithmic Time\n",
    "b Linearithmic Time\n",
    "c Quadratic Time\n",
    "d Linear Time\n",
    "\n",
    "Factorial time (O(n!)) is the most inefficient for large inputs because its growth rate increases explosively, making even small input sizes computationally expensive. Among the options for nested loops, quadratic time (O(n²)) is the most common result, as it typically arises when using two nested loops to compare or combine elements, such as generating all unique pairs in an array.\n",
    "\n",
    "# Homework hacks"
   ]
  },
  {
   "cell_type": "code",
   "execution_count": 3,
   "id": "4bd19eaa",
   "metadata": {},
   "outputs": [
    {
     "name": "stdout",
     "output_type": "stream",
     "text": [
      "Constant: 5\n",
      "\n",
      "Linear:\n",
      "5\n",
      "10\n",
      "15\n",
      "20\n",
      "25\n",
      "\n",
      "Quadratic:\n",
      "(5, 5)\n",
      "(5, 10)\n",
      "(5, 15)\n",
      "(5, 20)\n",
      "(5, 25)\n",
      "(10, 5)\n",
      "(10, 10)\n",
      "(10, 15)\n",
      "(10, 20)\n",
      "(10, 25)\n",
      "(15, 5)\n",
      "(15, 10)\n",
      "(15, 15)\n",
      "(15, 20)\n",
      "(15, 25)\n",
      "(20, 5)\n",
      "(20, 10)\n",
      "(20, 15)\n",
      "(20, 20)\n",
      "(20, 25)\n",
      "(25, 5)\n",
      "(25, 10)\n",
      "(25, 15)\n",
      "(25, 20)\n",
      "(25, 25)\n"
     ]
    }
   ],
   "source": [
    "def perform_operation(arr, complexity):\n",
    "    if complexity == \"constant\":\n",
    "        # O(1) - Return the first item\n",
    "        return arr[0] if arr else None\n",
    "\n",
    "    elif complexity == \"linear\":\n",
    "        # O(n) - Print all items\n",
    "        for item in arr:\n",
    "            print(item)\n",
    "\n",
    "    elif complexity == \"quadratic\":\n",
    "        # O(n^2) - Print all pairs\n",
    "        for i in range(len(arr)):\n",
    "            for j in range(len(arr)):\n",
    "                print(f\"({arr[i]}, {arr[j]})\")\n",
    "\n",
    "    else:\n",
    "        print(\"Unsupported complexity type.\")\n",
    "\n",
    "# Example usage\n",
    "arr = [5, 10, 15, 20, 25]\n",
    "print(\"Constant:\", perform_operation(arr, \"constant\"))\n",
    "print(\"\\nLinear:\")\n",
    "perform_operation(arr, \"linear\")\n",
    "print(\"\\nQuadratic:\")\n",
    "perform_operation(arr, \"quadratic\")\n"
   ]
  }
 ],
 "metadata": {
  "kernelspec": {
   "display_name": "venv",
   "language": "python",
   "name": "python3"
  },
  "language_info": {
   "codemirror_mode": {
    "name": "ipython",
    "version": 3
   },
   "file_extension": ".py",
   "mimetype": "text/x-python",
   "name": "python",
   "nbconvert_exporter": "python",
   "pygments_lexer": "ipython3",
   "version": "3.10.12"
  }
 },
 "nbformat": 4,
 "nbformat_minor": 5
}
