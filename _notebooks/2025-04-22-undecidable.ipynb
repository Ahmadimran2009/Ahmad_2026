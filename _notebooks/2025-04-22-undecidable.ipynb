{
 "cells": [
  {
   "cell_type": "code",
   "execution_count": null,
   "id": "3fe33f41",
   "metadata": {
    "vscode": {
     "languageId": "yaml"
    }
   },
   "outputs": [],
   "source": [
    "---\n",
    "layout: post\n",
    "title: Undecidable & Graphs\n",
    "description: notes on AUndecidable & Graphs\n",
    "courses: { csp: {week: 25} }\n",
    "author: Ahmad Imran\n",
    "type: ccc\n",
    "---"
   ]
  },
  {
   "cell_type": "markdown",
   "id": "2cb1a962",
   "metadata": {},
   "source": [
    "# popcorn hack 1\n",
    "\n",
    "False.\n",
    "\n",
    "In a directed graph, an edge from node A to node B means there is a one-way connection from A to B. There is not necessarily a corresponding edge from B to A unless it is explicitly included in the graph.\n",
    "\n",
    "So:\n",
    "\n",
    "A → B does not imply B → A.\n",
    "\n",
    "If both A → B and B → A exist, it's called a bidirectional or reciprocal edge, but that must be defined separately.\n",
    "\n",
    "# popcorn hack 2\n",
    "\n",
    "True.\n",
    "\n",
    "Heuristics are designed to find solutions more quickly by using shortcuts or rules of thumb, but they don't always guarantee the most accurate or optimal solution. Exact algorithms, on the other hand, are designed to find the best possible solution, but they may take longer to compute.\n",
    "\n",
    "# popcorn hack 3\n",
    "\n",
    "True.\n",
    "\n",
    "Heuristic algorithms like the Nearest Neighbor algorithm are faster and can provide good solutions for the Traveling Salesman Problem (TSP), but they do not guarantee an optimal solution. As the number of cities increases, the difference between the heuristic solution and the optimal solution can grow, and in some cases, the gap can become exponentially larger due to the nature of the problem's complexity.\n",
    "\n",
    "# Homework\n",
    "\n",
    "Social Network Analysis (SNA) uses graphs to study relationships in social networks, where users are represented as nodes and relationships as edges. In social media platforms, nodes could be individuals, and edges represent connections like friendships, follows, or interactions. For example, on Twitter, users are nodes, and the following relationship forms directed edges. Graph theory helps Twitter analyze influence by identifying users with many connections or interactions, and it also powers recommendation systems by exploring user connections. This approach helps understand information flow and user behavior across networks.\n",
    "\n",
    "# popcorn hack 1\n",
    "\n",
    "False.\n",
    "\n",
    "An algorithm cannot solve an undecidable problem. By definition, an undecidable problem is one for which no algorithm can provide a solution for all possible inputs. These problems are beyond the scope of algorithmic resolution, as proven by results such as Turing's Halting Problem.\n",
    "\n",
    "# popcorn hack 2\n",
    "\n",
    "True.\n",
    "\n",
    "If a programmer encounters an undecidable problem, they can often use a heuristic or approximation algorithm that works most of the time or in specific cases. While these algorithms may not guarantee a solution for every possible input, they can provide useful results in practice for many instances of the problem. However, such solutions don't guarantee correctness for all inputs, and they don't fully solve the problem in the theoretical sense.\n",
    "\n",
    "# popcorn hack 3\n",
    "\n",
    "The correct answer is:\n",
    "\n",
    "D. Bubble sorting\n",
    "\n",
    "Bubble sorting is a well-defined, decidable problem where an algorithm can always determine whether a list is sorted or not. It's a simple sorting algorithm with a clear procedure that terminates in a finite amount of time.\n",
    "\n",
    "The other options (A, B, C) are undecidable problems:\n",
    "\n",
    "A. Halting Problem: It's undecidable to determine whether an arbitrary program will halt or run indefinitely.\n",
    "\n",
    "B. The Collatz Conjecture: It's an unsolved problem in mathematics, and there's no known algorithm that can decisively prove it for all integers.\n",
    "\n",
    "C. Rice’s Theorem: This is a generalization that shows that most non-trivial properties of programs are undecidable.\n",
    "\n",
    "# Homework\n",
    "\n",
    "Modern operating systems and web browsers use various mechanisms to handle infinite loops and long-running scripts. Operating systems like Linux limit resources with tools like ulimit, and Windows can terminate unresponsive processes. Browsers like Chrome and Firefox display error messages when scripts run too long, such as \"Script took too long to run.\" They also use event-driven models and asynchronous execution to remain responsive. These systems work together to maintain stability and prevent system freezes."
   ]
  }
 ],
 "metadata": {
  "language_info": {
   "name": "python"
  }
 },
 "nbformat": 4,
 "nbformat_minor": 5
}
